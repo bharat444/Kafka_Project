{
 "cells": [
  {
   "cell_type": "code",
   "execution_count": 0,
   "metadata": {
    "application/vnd.databricks.v1+cell": {
     "cellMetadata": {
      "byteLimit": 2048000,
      "rowLimit": 10000
     },
     "inputWidgets": {},
     "nuid": "1744d4c4-f052-4d61-8583-c909bb5ff3a4",
     "showTitle": false,
     "tableResultSettingsMap": {},
     "title": ""
    }
   },
   "outputs": [
    {
     "output_type": "stream",
     "name": "stdout",
     "output_type": "stream",
     "text": [
      "Python interpreter will be restarted.\nRequirement already satisfied: confluent_kafka in /local_disk0/.ephemeral_nfs/envs/pythonEnv-41618556-6446-4c2d-9846-84da454b184c/lib/python3.9/site-packages (2.6.1)\nPython interpreter will be restarted.\n"
     ]
    }
   ],
   "source": [
    "pip install confluent_kafka"
   ]
  },
  {
   "cell_type": "code",
   "execution_count": 0,
   "metadata": {
    "application/vnd.databricks.v1+cell": {
     "cellMetadata": {
      "byteLimit": 2048000,
      "rowLimit": 10000
     },
     "inputWidgets": {},
     "nuid": "8e63fb78-0ce2-444b-98e5-49914299b2a1",
     "showTitle": false,
     "tableResultSettingsMap": {},
     "title": ""
    }
   },
   "outputs": [
    {
     "output_type": "stream",
     "name": "stdout",
     "output_type": "stream",
     "text": [
      "Sent: {'Index': 'AAPL', 'Date': '2024-12-10 14:56:44', 'Open': 604.17, 'High': 1988.23, 'Low': 996.28, 'Close': 330.23, 'Adj_Close': 1100.0, 'Volume': 403622, 'CloseUSD': 1490.72}\nSent: {'Index': 'MSFT', 'Date': '2024-12-10 14:56:47', 'Open': 539.74, 'High': 1972.45, 'Low': 548.15, 'Close': 893.07, 'Adj_Close': 172.4, 'Volume': 40148, 'CloseUSD': 392.56}\nRecord b'AAPL' successfully produced to stocks_analysis [0]\nSent: {'Index': 'AAPL', 'Date': '2024-12-10 14:56:50', 'Open': 921.27, 'High': 1994.21, 'Low': 640.28, 'Close': 778.18, 'Adj_Close': 855.62, 'Volume': 74998, 'CloseUSD': 1282.14}\nRecord b'MSFT' successfully produced to stocks_analysis [1]\nSent: {'Index': 'AMZN', 'Date': '2024-12-10 14:56:53', 'Open': 177.53, 'High': 1794.86, 'Low': 1277.01, 'Close': 1001.09, 'Adj_Close': 1306.11, 'Volume': 988579, 'CloseUSD': 1424.01}\nRecord b'AAPL' successfully produced to stocks_analysis [0]\nSent: {'Index': 'AMZN', 'Date': '2024-12-10 14:56:56', 'Open': 907.58, 'High': 1956.42, 'Low': 568.83, 'Close': 284.26, 'Adj_Close': 1049.51, 'Volume': 433557, 'CloseUSD': 526.61}\nRecord b'AMZN' successfully produced to stocks_analysis [4]\nSent: {'Index': 'MSFT', 'Date': '2024-12-10 14:56:59', 'Open': 1058.51, 'High': 1732.74, 'Low': 1131.51, 'Close': 835.81, 'Adj_Close': 452.27, 'Volume': 899648, 'CloseUSD': 561.96}\nRecord b'AMZN' successfully produced to stocks_analysis [4]\nSent: {'Index': 'GOOG', 'Date': '2024-12-10 14:57:02', 'Open': 1120.7, 'High': 1629.35, 'Low': 1352.59, 'Close': 1200.12, 'Adj_Close': 687.14, 'Volume': 107909, 'CloseUSD': 459.98}\nRecord b'MSFT' successfully produced to stocks_analysis [1]\nSent: {'Index': 'GOOG', 'Date': '2024-12-10 14:57:05', 'Open': 478.78, 'High': 1580.11, 'Low': 784.61, 'Close': 842.87, 'Adj_Close': 1007.82, 'Volume': 731566, 'CloseUSD': 345.29}\nRecord b'GOOG' successfully produced to stocks_analysis [2]\nSent: {'Index': 'GOOG', 'Date': '2024-12-10 14:57:08', 'Open': 1327.83, 'High': 1672.21, 'Low': 742.65, 'Close': 539.86, 'Adj_Close': 1254.96, 'Volume': 168567, 'CloseUSD': 254.7}\nRecord b'GOOG' successfully produced to stocks_analysis [2]\nSent: {'Index': 'AMZN', 'Date': '2024-12-10 14:57:11', 'Open': 495.8, 'High': 1619.17, 'Low': 1404.57, 'Close': 1098.77, 'Adj_Close': 641.68, 'Volume': 459528, 'CloseUSD': 249.8}\nRecord b'GOOG' successfully produced to stocks_analysis [2]\nSent: {'Index': 'AMZN', 'Date': '2024-12-10 14:57:14', 'Open': 977.88, 'High': 1840.5, 'Low': 80.81, 'Close': 303.49, 'Adj_Close': 959.62, 'Volume': 237142, 'CloseUSD': 904.29}\nRecord b'AMZN' successfully produced to stocks_analysis [4]\nSent: {'Index': 'MSFT', 'Date': '2024-12-10 14:57:17', 'Open': 114.32, 'High': 1591.66, 'Low': 454.76, 'Close': 1232.75, 'Adj_Close': 1398.87, 'Volume': 724672, 'CloseUSD': 158.58}\nRecord b'AMZN' successfully produced to stocks_analysis [4]\nSent: {'Index': 'GOOG', 'Date': '2024-12-10 14:57:20', 'Open': 750.36, 'High': 1565.64, 'Low': 524.65, 'Close': 121.95, 'Adj_Close': 1231.74, 'Volume': 846735, 'CloseUSD': 303.16}\nRecord b'MSFT' successfully produced to stocks_analysis [1]\nSent: {'Index': 'MSFT', 'Date': '2024-12-10 14:57:23', 'Open': 766.92, 'High': 1918.84, 'Low': 463.67, 'Close': 661.35, 'Adj_Close': 806.76, 'Volume': 471842, 'CloseUSD': 1039.15}\nRecord b'GOOG' successfully produced to stocks_analysis [2]\nSent: {'Index': 'MSFT', 'Date': '2024-12-10 14:57:26', 'Open': 1034.76, 'High': 1723.88, 'Low': 1187.27, 'Close': 1331.78, 'Adj_Close': 1400.23, 'Volume': 576877, 'CloseUSD': 735.19}\nRecord b'MSFT' successfully produced to stocks_analysis [1]\nSent: {'Index': 'MSFT', 'Date': '2024-12-10 14:57:29', 'Open': 108.12, 'High': 1709.45, 'Low': 362.75, 'Close': 883.66, 'Adj_Close': 481.53, 'Volume': 29427, 'CloseUSD': 388.6}\nRecord b'MSFT' successfully produced to stocks_analysis [1]\nSent: {'Index': 'AAPL', 'Date': '2024-12-10 14:57:32', 'Open': 187.18, 'High': 1787.84, 'Low': 938.55, 'Close': 512.17, 'Adj_Close': 839.17, 'Volume': 909215, 'CloseUSD': 1178.03}\nRecord b'MSFT' successfully produced to stocks_analysis [1]\nSent: {'Index': 'GOOG', 'Date': '2024-12-10 14:57:35', 'Open': 1405.77, 'High': 1844.24, 'Low': 1421.64, 'Close': 883.46, 'Adj_Close': 329.64, 'Volume': 877435, 'CloseUSD': 438.95}\nRecord b'AAPL' successfully produced to stocks_analysis [0]\nSent: {'Index': 'AAPL', 'Date': '2024-12-10 14:57:38', 'Open': 535.01, 'High': 1970.92, 'Low': 985.3, 'Close': 498.63, 'Adj_Close': 400.27, 'Volume': 621894, 'CloseUSD': 254.08}\nRecord b'GOOG' successfully produced to stocks_analysis [2]\nSent: {'Index': 'AMZN', 'Date': '2024-12-10 14:57:41', 'Open': 942.86, 'High': 1896.19, 'Low': 809.85, 'Close': 330.03, 'Adj_Close': 845.4, 'Volume': 166045, 'CloseUSD': 1290.83}\nRecord b'AAPL' successfully produced to stocks_analysis [0]\nSent: {'Index': 'AAPL', 'Date': '2024-12-10 14:57:44', 'Open': 1156.56, 'High': 1611.08, 'Low': 519.36, 'Close': 1284.48, 'Adj_Close': 1274.9, 'Volume': 418115, 'CloseUSD': 1223.31}\nRecord b'AMZN' successfully produced to stocks_analysis [4]\nSent: {'Index': 'AMZN', 'Date': '2024-12-10 14:57:47', 'Open': 1097.55, 'High': 1622.68, 'Low': 718.19, 'Close': 486.7, 'Adj_Close': 181.74, 'Volume': 887369, 'CloseUSD': 615.97}\nRecord b'AAPL' successfully produced to stocks_analysis [0]\nSent: {'Index': 'AMZN', 'Date': '2024-12-10 14:57:50', 'Open': 187.05, 'High': 1718.09, 'Low': 1065.12, 'Close': 640.76, 'Adj_Close': 804.85, 'Volume': 788759, 'CloseUSD': 485.61}\nRecord b'AMZN' successfully produced to stocks_analysis [4]\nSent: {'Index': 'AMZN', 'Date': '2024-12-10 14:57:53', 'Open': 516.65, 'High': 1880.26, 'Low': 875.97, 'Close': 385.07, 'Adj_Close': 945.02, 'Volume': 601325, 'CloseUSD': 1247.65}\nRecord b'AMZN' successfully produced to stocks_analysis [4]\nSent: {'Index': 'GOOG', 'Date': '2024-12-10 14:57:56', 'Open': 889.94, 'High': 1926.84, 'Low': 326.23, 'Close': 173.26, 'Adj_Close': 955.92, 'Volume': 910061, 'CloseUSD': 1228.52}\nRecord b'AMZN' successfully produced to stocks_analysis [4]\nSent: {'Index': 'AAPL', 'Date': '2024-12-10 14:57:59', 'Open': 857.36, 'High': 1533.09, 'Low': 1251.78, 'Close': 1405.55, 'Adj_Close': 384.67, 'Volume': 231862, 'CloseUSD': 782.69}\nRecord b'GOOG' successfully produced to stocks_analysis [2]\nSent: {'Index': 'MSFT', 'Date': '2024-12-10 14:58:02', 'Open': 752.83, 'High': 1717.62, 'Low': 1057.44, 'Close': 1233.7, 'Adj_Close': 1201.51, 'Volume': 676401, 'CloseUSD': 978.61}\nRecord b'AAPL' successfully produced to stocks_analysis [0]\nSent: {'Index': 'AAPL', 'Date': '2024-12-10 14:58:05', 'Open': 658.1, 'High': 1636.05, 'Low': 1394.1, 'Close': 186.23, 'Adj_Close': 841.2, 'Volume': 167813, 'CloseUSD': 1049.8}\nRecord b'MSFT' successfully produced to stocks_analysis [1]\nSent: {'Index': 'GOOG', 'Date': '2024-12-10 14:58:08', 'Open': 1366.87, 'High': 1652.57, 'Low': 362.37, 'Close': 241.19, 'Adj_Close': 473.14, 'Volume': 549370, 'CloseUSD': 1021.02}\nRecord b'AAPL' successfully produced to stocks_analysis [0]\nSent: {'Index': 'AMZN', 'Date': '2024-12-10 14:58:11', 'Open': 417.08, 'High': 1868.48, 'Low': 978.87, 'Close': 711.46, 'Adj_Close': 482.47, 'Volume': 819966, 'CloseUSD': 978.35}\nRecord b'GOOG' successfully produced to stocks_analysis [2]\nSent: {'Index': 'MSFT', 'Date': '2024-12-10 14:58:14', 'Open': 1435.4, 'High': 1778.59, 'Low': 669.73, 'Close': 1427.59, 'Adj_Close': 877.81, 'Volume': 880358, 'CloseUSD': 1371.49}\nRecord b'AMZN' successfully produced to stocks_analysis [4]\nSent: {'Index': 'AAPL', 'Date': '2024-12-10 14:58:17', 'Open': 984.95, 'High': 1695.04, 'Low': 201.17, 'Close': 378.27, 'Adj_Close': 357.88, 'Volume': 906387, 'CloseUSD': 1070.09}\nRecord b'MSFT' successfully produced to stocks_analysis [1]\nSent: {'Index': 'AMZN', 'Date': '2024-12-10 14:58:20', 'Open': 1150.82, 'High': 1603.97, 'Low': 378.67, 'Close': 1484.63, 'Adj_Close': 1016.92, 'Volume': 874540, 'CloseUSD': 609.38}\nRecord b'AAPL' successfully produced to stocks_analysis [0]\nSent: {'Index': 'GOOG', 'Date': '2024-12-10 14:58:23', 'Open': 1086.11, 'High': 1556.45, 'Low': 716.48, 'Close': 710.96, 'Adj_Close': 956.18, 'Volume': 870085, 'CloseUSD': 748.23}\nRecord b'AMZN' successfully produced to stocks_analysis [4]\nSent: {'Index': 'GOOG', 'Date': '2024-12-10 14:58:26', 'Open': 167.13, 'High': 1980.54, 'Low': 96.02, 'Close': 1314.97, 'Adj_Close': 1219.56, 'Volume': 577914, 'CloseUSD': 1359.27}\nRecord b'GOOG' successfully produced to stocks_analysis [2]\nSent: {'Index': 'GOOG', 'Date': '2024-12-10 14:58:29', 'Open': 712.29, 'High': 1903.59, 'Low': 1190.29, 'Close': 348.5, 'Adj_Close': 488.35, 'Volume': 567500, 'CloseUSD': 1179.64}\nRecord b'GOOG' successfully produced to stocks_analysis [2]\nSent: {'Index': 'AAPL', 'Date': '2024-12-10 14:58:32', 'Open': 631.94, 'High': 1542.95, 'Low': 240.32, 'Close': 1051.27, 'Adj_Close': 724.68, 'Volume': 283682, 'CloseUSD': 1012.83}\nRecord b'GOOG' successfully produced to stocks_analysis [2]\nSent: {'Index': 'MSFT', 'Date': '2024-12-10 14:58:35', 'Open': 1128.1, 'High': 1941.08, 'Low': 828.58, 'Close': 1053.19, 'Adj_Close': 718.04, 'Volume': 191487, 'CloseUSD': 1415.09}\nRecord b'AAPL' successfully produced to stocks_analysis [0]\nSent: {'Index': 'MSFT', 'Date': '2024-12-10 14:58:38', 'Open': 601.47, 'High': 1552.39, 'Low': 892.77, 'Close': 441.76, 'Adj_Close': 840.82, 'Volume': 174972, 'CloseUSD': 409.26}\nRecord b'MSFT' successfully produced to stocks_analysis [1]\nSent: {'Index': 'AAPL', 'Date': '2024-12-10 14:58:41', 'Open': 879.55, 'High': 1694.25, 'Low': 1416.91, 'Close': 955.36, 'Adj_Close': 641.69, 'Volume': 868535, 'CloseUSD': 641.92}\nRecord b'MSFT' successfully produced to stocks_analysis [1]\nSent: {'Index': 'GOOG', 'Date': '2024-12-10 14:58:44', 'Open': 650.91, 'High': 1748.74, 'Low': 240.81, 'Close': 1079.16, 'Adj_Close': 692.46, 'Volume': 898232, 'CloseUSD': 893.92}\nRecord b'AAPL' successfully produced to stocks_analysis [0]\nSent: {'Index': 'MSFT', 'Date': '2024-12-10 14:58:47', 'Open': 146.39, 'High': 1834.59, 'Low': 729.45, 'Close': 123.71, 'Adj_Close': 1346.37, 'Volume': 728013, 'CloseUSD': 1163.97}\nRecord b'GOOG' successfully produced to stocks_analysis [2]\nSent: {'Index': 'MSFT', 'Date': '2024-12-10 14:58:50', 'Open': 649.71, 'High': 1810.67, 'Low': 630.0, 'Close': 614.69, 'Adj_Close': 943.11, 'Volume': 305084, 'CloseUSD': 236.39}\nRecord b'MSFT' successfully produced to stocks_analysis [1]\nSent: {'Index': 'AAPL', 'Date': '2024-12-10 14:58:53', 'Open': 104.3, 'High': 1705.2, 'Low': 1221.42, 'Close': 249.81, 'Adj_Close': 1272.32, 'Volume': 927637, 'CloseUSD': 782.63}\nRecord b'MSFT' successfully produced to stocks_analysis [1]\nSent: {'Index': 'AMZN', 'Date': '2024-12-10 14:58:56', 'Open': 422.74, 'High': 1891.34, 'Low': 905.56, 'Close': 1090.21, 'Adj_Close': 270.37, 'Volume': 657370, 'CloseUSD': 829.9}\nRecord b'AAPL' successfully produced to stocks_analysis [0]\nSent: {'Index': 'MSFT', 'Date': '2024-12-10 14:58:59', 'Open': 1422.26, 'High': 1788.88, 'Low': 1037.26, 'Close': 305.05, 'Adj_Close': 778.66, 'Volume': 303198, 'CloseUSD': 554.37}\nRecord b'AMZN' successfully produced to stocks_analysis [4]\nSent: {'Index': 'AMZN', 'Date': '2024-12-10 14:59:02', 'Open': 140.85, 'High': 1661.42, 'Low': 1050.46, 'Close': 941.8, 'Adj_Close': 567.05, 'Volume': 669073, 'CloseUSD': 1191.45}\nRecord b'MSFT' successfully produced to stocks_analysis [1]\nSent: {'Index': 'AAPL', 'Date': '2024-12-10 14:59:05', 'Open': 914.11, 'High': 1545.74, 'Low': 1308.41, 'Close': 1176.06, 'Adj_Close': 1329.37, 'Volume': 636811, 'CloseUSD': 235.19}\nRecord b'AMZN' successfully produced to stocks_analysis [4]\nSent: {'Index': 'GOOG', 'Date': '2024-12-10 14:59:08', 'Open': 1108.57, 'High': 1764.32, 'Low': 949.43, 'Close': 1018.16, 'Adj_Close': 1075.5, 'Volume': 718540, 'CloseUSD': 1395.61}\nRecord b'AAPL' successfully produced to stocks_analysis [0]\nSent: {'Index': 'GOOG', 'Date': '2024-12-10 14:59:11', 'Open': 754.59, 'High': 1707.41, 'Low': 177.19, 'Close': 830.69, 'Adj_Close': 1428.25, 'Volume': 507764, 'CloseUSD': 882.42}\nRecord b'GOOG' successfully produced to stocks_analysis [2]\nSent: {'Index': 'AAPL', 'Date': '2024-12-10 14:59:14', 'Open': 1147.79, 'High': 1819.12, 'Low': 978.61, 'Close': 578.91, 'Adj_Close': 707.06, 'Volume': 301348, 'CloseUSD': 488.64}\nRecord b'GOOG' successfully produced to stocks_analysis [2]\nSent: {'Index': 'AMZN', 'Date': '2024-12-10 14:59:17', 'Open': 495.93, 'High': 1828.99, 'Low': 125.17, 'Close': 402.39, 'Adj_Close': 505.51, 'Volume': 530957, 'CloseUSD': 121.17}\nRecord b'AAPL' successfully produced to stocks_analysis [0]\nSent: {'Index': 'GOOG', 'Date': '2024-12-10 14:59:20', 'Open': 732.21, 'High': 1718.42, 'Low': 335.07, 'Close': 1466.29, 'Adj_Close': 947.41, 'Volume': 83057, 'CloseUSD': 1029.29}\nRecord b'AMZN' successfully produced to stocks_analysis [4]\nSent: {'Index': 'GOOG', 'Date': '2024-12-10 14:59:23', 'Open': 674.12, 'High': 1875.69, 'Low': 1050.76, 'Close': 998.14, 'Adj_Close': 494.42, 'Volume': 76554, 'CloseUSD': 593.97}\nRecord b'GOOG' successfully produced to stocks_analysis [2]\nSent: {'Index': 'MSFT', 'Date': '2024-12-10 14:59:26', 'Open': 671.14, 'High': 1864.81, 'Low': 318.06, 'Close': 391.04, 'Adj_Close': 1161.08, 'Volume': 32420, 'CloseUSD': 726.1}\nRecord b'GOOG' successfully produced to stocks_analysis [2]\nSent: {'Index': 'AMZN', 'Date': '2024-12-10 14:59:29', 'Open': 458.76, 'High': 1974.6, 'Low': 1165.1, 'Close': 748.87, 'Adj_Close': 271.92, 'Volume': 309917, 'CloseUSD': 287.54}\nRecord b'MSFT' successfully produced to stocks_analysis [1]\nSent: {'Index': 'AAPL', 'Date': '2024-12-10 14:59:32', 'Open': 769.48, 'High': 1791.7, 'Low': 1101.35, 'Close': 961.92, 'Adj_Close': 1486.28, 'Volume': 916661, 'CloseUSD': 762.3}\nRecord b'AMZN' successfully produced to stocks_analysis [4]\nSent: {'Index': 'MSFT', 'Date': '2024-12-10 14:59:35', 'Open': 653.88, 'High': 1713.52, 'Low': 251.7, 'Close': 381.42, 'Adj_Close': 815.1, 'Volume': 564176, 'CloseUSD': 1245.46}\nRecord b'AAPL' successfully produced to stocks_analysis [0]\nSent: {'Index': 'MSFT', 'Date': '2024-12-10 14:59:38', 'Open': 816.48, 'High': 1961.2, 'Low': 551.99, 'Close': 415.2, 'Adj_Close': 654.7, 'Volume': 809006, 'CloseUSD': 118.66}\nRecord b'MSFT' successfully produced to stocks_analysis [1]\nSent: {'Index': 'AMZN', 'Date': '2024-12-10 14:59:41', 'Open': 291.78, 'High': 1705.84, 'Low': 1094.65, 'Close': 1279.63, 'Adj_Close': 1499.02, 'Volume': 707466, 'CloseUSD': 746.13}\nRecord b'MSFT' successfully produced to stocks_analysis [1]\nSent: {'Index': 'AMZN', 'Date': '2024-12-10 14:59:44', 'Open': 629.17, 'High': 1648.23, 'Low': 155.44, 'Close': 1388.44, 'Adj_Close': 1149.08, 'Volume': 711238, 'CloseUSD': 146.72}\nRecord b'AMZN' successfully produced to stocks_analysis [4]\nSent: {'Index': 'MSFT', 'Date': '2024-12-10 14:59:47', 'Open': 593.73, 'High': 1674.41, 'Low': 161.73, 'Close': 721.83, 'Adj_Close': 385.24, 'Volume': 824288, 'CloseUSD': 1281.63}\nRecord b'AMZN' successfully produced to stocks_analysis [4]\nSent: {'Index': 'MSFT', 'Date': '2024-12-10 14:59:50', 'Open': 942.1, 'High': 1689.21, 'Low': 706.31, 'Close': 701.33, 'Adj_Close': 512.0, 'Volume': 121680, 'CloseUSD': 1482.6}\nRecord b'MSFT' successfully produced to stocks_analysis [1]\nSent: {'Index': 'GOOG', 'Date': '2024-12-10 14:59:53', 'Open': 847.12, 'High': 1686.8, 'Low': 1319.59, 'Close': 905.25, 'Adj_Close': 839.12, 'Volume': 859769, 'CloseUSD': 1146.09}\nRecord b'MSFT' successfully produced to stocks_analysis [1]\nSent: {'Index': 'GOOG', 'Date': '2024-12-10 14:59:56', 'Open': 509.18, 'High': 1574.98, 'Low': 1306.94, 'Close': 419.33, 'Adj_Close': 112.67, 'Volume': 813322, 'CloseUSD': 692.44}\nRecord b'GOOG' successfully produced to stocks_analysis [2]\nSent: {'Index': 'AAPL', 'Date': '2024-12-10 14:59:59', 'Open': 378.19, 'High': 1566.47, 'Low': 1297.37, 'Close': 1358.66, 'Adj_Close': 511.52, 'Volume': 684237, 'CloseUSD': 747.54}\nRecord b'GOOG' successfully produced to stocks_analysis [2]\nSent: {'Index': 'AMZN', 'Date': '2024-12-10 15:00:02', 'Open': 1118.49, 'High': 1853.03, 'Low': 756.07, 'Close': 673.3, 'Adj_Close': 967.44, 'Volume': 305512, 'CloseUSD': 1315.44}\nRecord b'AAPL' successfully produced to stocks_analysis [0]\nSent: {'Index': 'MSFT', 'Date': '2024-12-10 15:00:05', 'Open': 657.32, 'High': 1670.17, 'Low': 486.45, 'Close': 1103.0, 'Adj_Close': 1238.92, 'Volume': 819245, 'CloseUSD': 1190.59}\nRecord b'AMZN' successfully produced to stocks_analysis [4]\nSent: {'Index': 'AAPL', 'Date': '2024-12-10 15:00:08', 'Open': 225.42, 'High': 1778.17, 'Low': 1070.91, 'Close': 454.86, 'Adj_Close': 1002.31, 'Volume': 193898, 'CloseUSD': 483.95}\nRecord b'MSFT' successfully produced to stocks_analysis [1]\nSent: {'Index': 'MSFT', 'Date': '2024-12-10 15:00:11', 'Open': 1162.74, 'High': 1518.47, 'Low': 630.41, 'Close': 1486.56, 'Adj_Close': 418.0, 'Volume': 469755, 'CloseUSD': 1251.47}\nRecord b'AAPL' successfully produced to stocks_analysis [0]\nSent: {'Index': 'AMZN', 'Date': '2024-12-10 15:00:14', 'Open': 503.0, 'High': 1649.04, 'Low': 968.39, 'Close': 1142.65, 'Adj_Close': 887.59, 'Volume': 345804, 'CloseUSD': 294.87}\nRecord b'MSFT' successfully produced to stocks_analysis [1]\nSent: {'Index': 'AMZN', 'Date': '2024-12-10 15:00:17', 'Open': 1082.54, 'High': 1742.13, 'Low': 1313.0, 'Close': 457.37, 'Adj_Close': 750.21, 'Volume': 833444, 'CloseUSD': 565.28}\nRecord b'AMZN' successfully produced to stocks_analysis [4]\nSent: {'Index': 'GOOG', 'Date': '2024-12-10 15:00:20', 'Open': 276.88, 'High': 1994.8, 'Low': 391.36, 'Close': 1049.98, 'Adj_Close': 1439.65, 'Volume': 129689, 'CloseUSD': 979.68}\nRecord b'AMZN' successfully produced to stocks_analysis [4]\nSent: {'Index': 'AAPL', 'Date': '2024-12-10 15:00:23', 'Open': 471.75, 'High': 1818.58, 'Low': 269.53, 'Close': 461.27, 'Adj_Close': 1309.0, 'Volume': 554473, 'CloseUSD': 1031.58}\nRecord b'GOOG' successfully produced to stocks_analysis [2]\nSent: {'Index': 'AMZN', 'Date': '2024-12-10 15:00:26', 'Open': 896.01, 'High': 1690.77, 'Low': 768.66, 'Close': 526.6, 'Adj_Close': 190.43, 'Volume': 610341, 'CloseUSD': 1333.96}\nRecord b'AAPL' successfully produced to stocks_analysis [0]\nSent: {'Index': 'AMZN', 'Date': '2024-12-10 15:00:29', 'Open': 834.59, 'High': 1602.4, 'Low': 822.21, 'Close': 501.19, 'Adj_Close': 1293.34, 'Volume': 204888, 'CloseUSD': 786.85}\nRecord b'AMZN' successfully produced to stocks_analysis [4]\nSent: {'Index': 'AAPL', 'Date': '2024-12-10 15:00:32', 'Open': 712.0, 'High': 1506.34, 'Low': 842.11, 'Close': 209.25, 'Adj_Close': 1454.52, 'Volume': 252838, 'CloseUSD': 1052.08}\nRecord b'AMZN' successfully produced to stocks_analysis [4]\nSent: {'Index': 'AAPL', 'Date': '2024-12-10 15:00:35', 'Open': 959.09, 'High': 1923.41, 'Low': 1239.3, 'Close': 1162.18, 'Adj_Close': 522.03, 'Volume': 652753, 'CloseUSD': 1099.25}\nRecord b'AAPL' successfully produced to stocks_analysis [0]\nSent: {'Index': 'AAPL', 'Date': '2024-12-10 15:00:38', 'Open': 367.59, 'High': 1591.27, 'Low': 557.44, 'Close': 869.94, 'Adj_Close': 817.87, 'Volume': 927058, 'CloseUSD': 1089.65}\nRecord b'AAPL' successfully produced to stocks_analysis [0]\nSent: {'Index': 'AMZN', 'Date': '2024-12-10 15:00:41', 'Open': 679.83, 'High': 1818.49, 'Low': 293.41, 'Close': 1306.6, 'Adj_Close': 485.1, 'Volume': 985064, 'CloseUSD': 1163.49}\nRecord b'AAPL' successfully produced to stocks_analysis [0]\nSent: {'Index': 'GOOG', 'Date': '2024-12-10 15:00:44', 'Open': 923.81, 'High': 1972.61, 'Low': 744.83, 'Close': 475.95, 'Adj_Close': 409.14, 'Volume': 193959, 'CloseUSD': 641.87}\nRecord b'AMZN' successfully produced to stocks_analysis [4]\nSent: {'Index': 'MSFT', 'Date': '2024-12-10 15:00:47', 'Open': 1238.7, 'High': 1935.77, 'Low': 335.33, 'Close': 686.87, 'Adj_Close': 440.04, 'Volume': 458112, 'CloseUSD': 1050.25}\nRecord b'GOOG' successfully produced to stocks_analysis [2]\nSent: {'Index': 'AAPL', 'Date': '2024-12-10 15:00:50', 'Open': 1287.63, 'High': 1732.77, 'Low': 425.41, 'Close': 548.5, 'Adj_Close': 1374.88, 'Volume': 239571, 'CloseUSD': 271.87}\nRecord b'MSFT' successfully produced to stocks_analysis [1]\nSent: {'Index': 'MSFT', 'Date': '2024-12-10 15:00:53', 'Open': 238.61, 'High': 1696.47, 'Low': 1193.54, 'Close': 605.38, 'Adj_Close': 648.8, 'Volume': 996433, 'CloseUSD': 1451.99}\nRecord b'AAPL' successfully produced to stocks_analysis [0]\nSent: {'Index': 'AMZN', 'Date': '2024-12-10 15:00:56', 'Open': 993.63, 'High': 1812.48, 'Low': 877.89, 'Close': 741.92, 'Adj_Close': 1095.17, 'Volume': 970456, 'CloseUSD': 432.01}\nRecord b'MSFT' successfully produced to stocks_analysis [1]\n"
     ]
    }
   ],
   "source": [
    "from confluent_kafka import Producer\n",
    "import json, random, time\n",
    "from datetime import datetime\n",
    "\n",
    "# Kafka producer configuration\n",
    "kafka_producer = Producer({\n",
    "\n",
    "}\n",
    "\n",
    "# Sample stock symbols\n",
    "stock_symbols = ['MSFT', 'AMZN', 'AAPL', 'GOOG']\n",
    "\n",
    "def delivery_report(err, msg):\n",
    "    \"\"\"Callback for delivery reports.\"\"\"\n",
    "    if err is not None:\n",
    "        print(f\"Delivery failed for record {msg.key()}: {err}\")\n",
    "    else:\n",
    "        print(f\"Record {msg.key()} successfully produced to {msg.topic()} [{msg.partition()}]\")\n",
    "\n",
    "def send_stock_data():\n",
    "    try:\n",
    "        while True:\n",
    "            # Randomly select a stock symbol from the list\n",
    "            stock_symbol = random.choice(stock_symbols)\n",
    "\n",
    "            # Generate random stock data with the selected stock symbol\n",
    "            stock_message = {\n",
    "                'Index': stock_symbol,  # Use the stock symbol here\n",
    "                'Date': datetime.now().strftime(\"%Y-%m-%d %H:%M:%S\"),\n",
    "                'Open': round(random.uniform(100, 1500), 2),\n",
    "                'High': round(random.uniform(1500, 2000), 2),\n",
    "                'Low': round(random.uniform(50, 1499), 2),\n",
    "                'Close': round(random.uniform(100, 1500), 2),\n",
    "                'Adj_Close': round(random.uniform(100, 1500), 2),\n",
    "                'Volume': random.randint(10000, 1000000),\n",
    "                'CloseUSD': round(random.uniform(100, 1500), 2)\n",
    "            }\n",
    "\n",
    "            # Produce message to Kafka\n",
    "            kafka_producer.produce(\n",
    "                'stocks_analysis',\n",
    "                key=stock_symbol,  # The stock symbol serves as the key\n",
    "                value=json.dumps(stock_message),\n",
    "                callback=delivery_report\n",
    "            )\n",
    "            print(f\"Sent: {stock_message}\")\n",
    "            kafka_producer.poll(0)  \n",
    "            time.sleep(3)  \n",
    "    except KeyboardInterrupt:\n",
    "        print(\"Stopping data production.\")\n",
    "    finally:\n",
    "        kafka_producer.flush()  # Ensure all messages are delivered\n",
    "\n",
    "send_stock_data()\n"
   ]
  }
 ],
 "metadata": {
  "application/vnd.databricks.v1+notebook": {
   "dashboards": [],
   "environmentMetadata": null,
   "language": "python",
   "notebookMetadata": {
    "pythonIndentUnit": 4
   },
   "notebookName": "producer",
   "widgets": {}
  }
 },
 "nbformat": 4,
 "nbformat_minor": 0
}
